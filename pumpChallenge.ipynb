{
 "cells": [
  {
   "cell_type": "code",
   "execution_count": 47,
   "metadata": {
    "collapsed": false
   },
   "outputs": [],
   "source": [
    "import os\n",
    "import numpy as np\n",
    "import pandas as pd\n",
    "import math\n",
    "import matplotlib.patches as patches\n",
    "import matplotlib.pylab as plt\n",
    "from sklearn.tree import DecisionTreeClassifier\n",
    "from sklearn.ensemble import RandomForestClassifier\n",
    "from sklearn.ensemble import BaggingClassifier\n",
    "from sklearn.model_selection import GridSearchCV\n",
    "from sklearn.model_selection import cross_val_score\n",
    "from sklearn import preprocessing\n",
    "from sklearn import cross_validation\n",
    "from sklearn.cross_validation import train_test_split\n",
    "from sklearn import tree\n",
    "from sklearn import metrics\n",
    "from sklearn import datasets\n",
    "from IPython.display import Image\n",
    "import seaborn as sb\n",
    "from fuzzywuzzy import fuzz\n",
    "import difflib\n",
    "import re\n",
    "import jellyfish\n",
    "from datetime import datetime\n",
    "from dateutil.relativedelta import relativedelta\n",
    "%matplotlib inline"
   ]
  },
  {
   "cell_type": "markdown",
   "metadata": {},
   "source": [
    "The goal is to predict the operating condition of a waterpoint for each record in the dataset. We are provided the following set of information about the waterpoints:\n",
    "\n",
    "* amount_tsh - Total static head (amount water available to waterpoint)\n",
    "* ~~date_recorded - The date the row was entered~~\n",
    "* funder - Who funded the well\n",
    "* gps_height - Altitude of the well\n",
    "* installer - Organization that installed the well\n",
    "* longitude - GPS coordinate\n",
    "* latitude - GPS coordinate\n",
    "* ~~wpt_name - Name of the waterpoint if there is one~~\n",
    "* ~~num_private~~ wtf is this?\n",
    "* basin - Geographic water basin\n",
    "* subvillage - Geographic location\n",
    "* region - Geographic location\n",
    "* region_code - Geographic location (coded)\n",
    "* district_code - Geographic location (coded)\n",
    "* lga - Geographic location\n",
    "* ward - Geographic location\n",
    "* population - Population around the well\n",
    "* public_meeting - True/False\n",
    "* ~~recorded_by - Group entering this row of data~~\n",
    "* scheme_management - Who operates the waterpoint\n",
    "* scheme_name - Who operates the waterpoint\n",
    "* permit - If the waterpoint is permitted\n",
    "* construction_year - Year the waterpoint was constructed\n",
    "* extraction_type - The kind of extraction the waterpoint uses\n",
    "* extraction_type_group - The kind of extraction the waterpoint uses\n",
    "* extraction_type_class - The kind of extraction the waterpoint uses\n",
    "* management - How the waterpoint is managed\n",
    "* management_group - How the waterpoint is managed\n",
    "* payment - What the water costs\n",
    "* payment_type - What the water costs\n",
    "* water_quality - The quality of the water\n",
    "* quality_group - The quality of the water\n",
    "* quantity - The quantity of water\n",
    "* quantity_group - The quantity of water\n",
    "* source - The source of the water\n",
    "* source_type - The source of the water\n",
    "* source_class - The source of the water\n",
    "* waterpoint_type - The kind of waterpoint\n",
    "* waterpoint_type_group - The kind of waterpoint"
   ]
  },
  {
   "cell_type": "code",
   "execution_count": 48,
   "metadata": {
    "collapsed": true
   },
   "outputs": [],
   "source": [
    "# Since we are dealing with a lot of columns, let's force pandas to display all of them\n",
    "pd.set_option('display.max_columns', None)"
   ]
  },
  {
   "cell_type": "code",
   "execution_count": 49,
   "metadata": {
    "collapsed": false
   },
   "outputs": [],
   "source": [
    "trainValues = pd.read_csv('train_values.csv', parse_dates = True)\n",
    "trainLabels = pd.read_csv('train_labels.csv')"
   ]
  },
  {
   "cell_type": "raw",
   "metadata": {
    "collapsed": true
   },
   "source": [
    "# Predefine functions\n",
    "# Function to draw trees\n",
    "def Decision_Tree_Image(decision_tree, feature_names, name = \"temp\"):\n",
    "    # Export decision tree to graphviz format\n",
    "    dot_file = tree.export_graphviz(decision_tree.tree_, out_file = 'images/' + name + '.dot', feature_names = feature_names)\n",
    "    \n",
    "    # Call graphviz to make an image file from tree\n",
    "    os.system(\"dot -T png images/\" + name + \".dot -o images/\" + name + \".png\")\n",
    "    \n",
    "    # Return the png image\n",
    "    return Image(filename = \"images/\" + name + \".png\")\n",
    "\n",
    "# Function to draw 2D scatterplots\n",
    "def Plot_Data(data, var1, var2, targetVar):\n",
    "    # Make the plot square\n",
    "    plt.rcParams['figure.figsize'] = [12.0, 8.0]\n",
    "    \n",
    "    # Pretty colors for dots\n",
    "    color = ['red' if x == 'non functional' else 'blue' if x == 'functional' else 'green' for x in data[targetVar]]\n",
    "    \n",
    "    # Plot and label\n",
    "    plt.scatter(data[var1], data[var2], c = color, s = 50)\n",
    "    plt.xlabel(var1)\n",
    "    plt.ylabel(var2)"
   ]
  },
  {
   "cell_type": "code",
   "execution_count": 50,
   "metadata": {
    "collapsed": false
   },
   "outputs": [],
   "source": [
    "# Merge along id\n",
    "train = pd.merge(trainValues, trainLabels, on='id')"
   ]
  },
  {
   "cell_type": "markdown",
   "metadata": {},
   "source": [
    "## Data cleaning and manipulation"
   ]
  },
  {
   "cell_type": "markdown",
   "metadata": {},
   "source": [
    "### Time variables"
   ]
  },
  {
   "cell_type": "markdown",
   "metadata": {},
   "source": [
    "- Converts the date-related variables to datetime format\n",
    "- Corrects a typo: some observations (9) seem like they would have been recorded 10 years before all the others\n",
    "- Creates new variable called 'operation_time' which is the difference between the date recorded and the construction year, converts it to integer\n",
    "- Creates variable for 'month' from 'date_recorded'"
   ]
  },
  {
   "cell_type": "code",
   "execution_count": 51,
   "metadata": {
    "collapsed": true
   },
   "outputs": [],
   "source": [
    "def timecleaner(df):\n",
    "    \n",
    "    df.construction_year=pd.to_numeric(df.construction_year)\n",
    "    df.loc[df.construction_year <= 0, df.columns=='construction_year'] = 1950 #arbitrary decision for the missing values\n",
    "    df.date_recorded = df.date_recorded.apply(pd.to_datetime)\n",
    "    \n",
    "    timestamp1 = \"Jan 1 01:01:01 2005\" #there are 9 observations recorded in 2004, it is probably a mistake since all the other observations are dated between 2011 and 2013\n",
    "    #I'll recode them to 2014\n",
    "    t1 = datetime.strptime(timestamp1, \"%b %d %H:%M:%S %Y\") #this is the timestamp for comparison\n",
    "    \n",
    "    df['date_recorded'] = df.date_recorded.apply(lambda x: x.replace(year = x.year + 10) if x < t1 else x)\n",
    "    \n",
    "    #create the variable operation_time (idea taken from mattiaf), which is construction year subtracted from date_recorded in days\n",
    "    df['operation_time'] = df.date_recorded - df.construction_year.apply(lambda x: pd.to_datetime(x, format = '%Y'))\n",
    "    df['operation_time'] = df.operation_time.apply(lambda x: (x / np.timedelta64(1, 'D')).astype(int))\n",
    "    #df.loc[df['operation_time'] < 0, df.columns=='operation_time'] = 63.92060232717317\n",
    "\n",
    "    df['month']=pd.to_datetime(df.date_recorded).dt.month #not sure whether we should keep this\n",
    "    return df"
   ]
  },
  {
   "cell_type": "markdown",
   "metadata": {},
   "source": [
    "### Cleaning and string matching for variables 'funder', 'installer', 'scheme_name'"
   ]
  },
  {
   "cell_type": "markdown",
   "metadata": {},
   "source": [
    "- Checks for several possible notations of missing values, sets them to 'Other'"
   ]
  },
  {
   "cell_type": "code",
   "execution_count": 52,
   "metadata": {
    "collapsed": true
   },
   "outputs": [],
   "source": [
    "def cleaner(df, variable, varstring):\n",
    "    checklist = ['0', 'None', 'Not Known', 'no scheme', 'Unknown', 'none']\n",
    "    for i in checklist:\n",
    "        df.loc[variable == i, df.columns == varstring] = 'Other'\n",
    "        df.loc[variable != variable, df.columns == varstring] = 'Other'\n",
    "    return df"
   ]
  },
  {
   "cell_type": "markdown",
   "metadata": {},
   "source": [
    "- Normalizes the string given as imput (deletes whitespaces, converts to lowercase) for furher string matching"
   ]
  },
  {
   "cell_type": "code",
   "execution_count": 53,
   "metadata": {
    "collapsed": true
   },
   "outputs": [],
   "source": [
    "def process_str_for_similarity_cmp(input_str, normalized=False, ignore_list=[]):\n",
    "    \"\"\" Processes string for similarity comparisons , cleans special characters and extra whitespaces\n",
    "        if normalized is True and removes the substrings which are in ignore_list)\n",
    "    Args:\n",
    "        input_str (str) : input string to be processed\n",
    "        normalized (bool) : if True , method removes special characters and extra whitespace from string,\n",
    "                            and converts to lowercase\n",
    "        ignore_list (list) : the substrings which need to be removed from the input string\n",
    "    Returns:\n",
    "       str : returns processed string\n",
    "    \"\"\" #this piece of code is from http://stackoverflow.com/questions/38969383/fuzzy-string-matching-in-python\n",
    "    for ignore_str in ignore_list:\n",
    "        input_str = re.sub(r'{0}'.format(ignore_str), \"\", input_str, flags=re.IGNORECASE)\n",
    "\n",
    "    if normalized is True:\n",
    "        input_str = input_str.strip().lower()\n",
    "        #clean special chars and extra whitespace\n",
    "        input_str = re.sub(\"\\W\", \"\", input_str).strip()\n",
    "\n",
    "    return input_str"
   ]
  },
  {
   "cell_type": "markdown",
   "metadata": {},
   "source": [
    "- Creates groups for similar names (used for the variables 'funder', 'installer', 'scheme_name')\n",
    "- Checks whether there are similar string to each unique value of the given variable\n",
    "- Match ratio is computed as an average of the output of difflib's SequenceMatcher and jellyfish's Jaro-Winkler algorithm for each pair of strings\n",
    "- Similarity defined as match ratio >= 0.8 (min: 0, max: 1)\n",
    "- Returns a list of grouped unique names"
   ]
  },
  {
   "cell_type": "code",
   "execution_count": 54,
   "metadata": {
    "collapsed": true
   },
   "outputs": [],
   "source": [
    "def strmatcher(uniquenames): #this function creates groups from similar names (the threshold is 0.8 here)\n",
    "    possiblelist = uniquenames\n",
    "    matches = []\n",
    "    for i in possiblelist:\n",
    "        str_i = process_str_for_similarity_cmp(i) #string processing to normalize it (lowercase, no whitespaces and so on)\n",
    "        imatches = [i]\n",
    "        possiblelist.remove(i)\n",
    "        for j in possiblelist:\n",
    "            str_j = process_str_for_similarity_cmp(j)\n",
    "            #match ratio is the average of the outputs of difflib's SequenceMatcher and Jellyfish's Jaro Winkler algorithm\n",
    "            match_ratio = (difflib.SequenceMatcher(None, process_str_for_similarity_cmp(i), process_str_for_similarity_cmp(j)).ratio() + jellyfish.jaro_winkler(unicode(process_str_for_similarity_cmp(i)), unicode(process_str_for_similarity_cmp(j))))/2.0\n",
    "            if match_ratio >= 0.8: \n",
    "                imatches.append(j) #imatches: similar groups for every item in possiblelist\n",
    "                possiblelist.remove(j)\n",
    "        matches.append(imatches)\n",
    "    return matches"
   ]
  },
  {
   "cell_type": "markdown",
   "metadata": {},
   "source": [
    "- If a value of the observed variable belongs to a group, we match the first item of the group to the observation in a new column in the original dataframe (the similar stringgroups are going to be handled this way)"
   ]
  },
  {
   "cell_type": "code",
   "execution_count": 55,
   "metadata": {
    "collapsed": true
   },
   "outputs": [],
   "source": [
    "#this function runs for a few minutes\n",
    "def backtodf(df, varname, newvarname, group): #the function stores the grouped names in the newly created columns\n",
    "    for index, row in df.iterrows():\n",
    "        searchfor = df.loc[index][varname]\n",
    "        for sublist in group:\n",
    "            for item in sublist:\n",
    "                if item == searchfor:\n",
    "                    df.ix[index, newvarname] = sublist[0] #the first element of the sublist is going to be the name of the funder\n",
    "    return df"
   ]
  },
  {
   "cell_type": "markdown",
   "metadata": {},
   "source": [
    "- Check whether the certain name is 'small' i. e. has less than 10 occurrences -> sets it to 'Other'"
   ]
  },
  {
   "cell_type": "code",
   "execution_count": 56,
   "metadata": {
    "collapsed": true
   },
   "outputs": [],
   "source": [
    "def checknames(x, smallnames): #changes the names of the small funders or installers to 'Other'\n",
    "    if x in smallnames:\n",
    "        return 'Other'\n",
    "    else:\n",
    "        return x"
   ]
  },
  {
   "cell_type": "markdown",
   "metadata": {},
   "source": [
    "* Impute population. Assign average population of selected attribute to missing population. If entire population of selected attribute is missing, assign average population of the entire dataset. "
   ]
  },
  {
   "cell_type": "code",
   "execution_count": 57,
   "metadata": {
    "collapsed": true
   },
   "outputs": [],
   "source": [
    "def imputeAverage(target, base, df):\n",
    "    df[target] = df[target].apply(lambda x: x if x >0 else pd.np.nan)\n",
    "    m = df.groupby(base)[target].mean()\n",
    "    m = m.apply(lambda x: x if x == x else m.mean())\n",
    "    df[target] = df.apply(lambda row: m[row[base]]\n",
    "                                 if pd.isnull(row[target])\n",
    "                                 else row[target], axis = 1)"
   ]
  },
  {
   "cell_type": "code",
   "execution_count": 16,
   "metadata": {
    "collapsed": false
   },
   "outputs": [],
   "source": [
    "#imputeAverage('population', 'region', train)"
   ]
  },
  {
   "cell_type": "code",
   "execution_count": null,
   "metadata": {
    "collapsed": true
   },
   "outputs": [],
   "source": []
  },
  {
   "cell_type": "markdown",
   "metadata": {},
   "source": [
    "- Allcleaner calls all the above defined functions to clean the following variables: 'funder', 'installer', 'wpt_name' 'scheme_management', 'scheme_name'\n",
    "- Searches for missing values denoted in different ways\n",
    "- Performs fuzzy string matching\n",
    "- Checks for values with few occurrences -> sets them to 'Other'"
   ]
  },
  {
   "cell_type": "code",
   "execution_count": 58,
   "metadata": {
    "collapsed": true
   },
   "outputs": [],
   "source": [
    "def allcleaner(df):\n",
    "    df = timecleaner(df)\n",
    "    \n",
    "    df = cleaner(df, df.funder, 'funder')\n",
    "    df = cleaner(df, df.installer, 'installer')\n",
    "    df = cleaner(df, df.scheme_management, 'scheme_management')\n",
    "    df = cleaner(df, df.scheme_name, 'scheme_name')\n",
    "    df = cleaner(df, df.wpt_name, 'wpt_name')\n",
    "    \n",
    "    funderfuzzy = list(df.funder.unique())\n",
    "    installerfuzzy = list(df.installer.unique())\n",
    "    schemefuzzy = list(df.scheme_name.unique())\n",
    "    \n",
    "    fundergroups = strmatcher(funderfuzzy) #these are the groups which are going to be matched\n",
    "    installergroups = strmatcher(installerfuzzy)\n",
    "    schemegroups = strmatcher(schemefuzzy)\n",
    "    \n",
    "    #back to the df\n",
    "\n",
    "    df['funder_group'] = 0 #create new column for the funder names\n",
    "    df['installer_group'] = 0 #create new column for the installer names\n",
    "    df['scheme_name_group'] = 0 #create new column for the scheme names\n",
    "    \n",
    "    df = backtodf(df, 'funder','funder_group', fundergroups)\n",
    "    df = backtodf(df, 'installer','installer_group', installergroups)\n",
    "    df = backtodf(df, 'scheme_name','scheme_name_group', schemegroups)\n",
    "    \n",
    "    df.funder_group[df.funder_group == 0] = df.funder #if no similar value, funder_group gets the same value as funder\n",
    "    df.installer_group[df.installer_group == 0] = df.installer #same for installer\n",
    "    df.scheme_name_group[df.scheme_name_group == 0] = df.scheme_name #same for scheme name\n",
    "    \n",
    "    funders = df.groupby('funder_group').count() #grouping by funder name\n",
    "    smallfunders = funders[funders['id'] < 10]\n",
    "    smallfunders = list(smallfunders.index.values) #list of funders with less than 10 occurrence\n",
    "\n",
    "    installers = df.groupby('installer_group').count() #grouping by installer name\n",
    "    smallinst = installers[installers['id'] < 10]\n",
    "    smallinst = list(smallinst.index.values) #list of installers with less than 10 occurrence\n",
    "\n",
    "    schemes = df.groupby('scheme_name_group').count() #grouping by scheme name\n",
    "    smallscheme = schemes[schemes['id'] < 10]\n",
    "    smallscheme = list(smallscheme.index.values) #list of scheme names with less than 10 occurrence\n",
    "    \n",
    "    df['funder_group'] = df['funder_group'].apply(checknames, args=(smallfunders,))\n",
    "    df['installer_group'] = df['installer_group'].apply(checknames, args=(smallinst,))\n",
    "    df['scheme_name_group'] = df['scheme_name_group'].apply(checknames, args=(smallscheme,))\n",
    "    \n",
    "    imputeAverage('population', 'region', df) # regional population average for missing population. if not available, average all population\n",
    "    \n",
    "    return df"
   ]
  },
  {
   "cell_type": "code",
   "execution_count": 59,
   "metadata": {
    "collapsed": false
   },
   "outputs": [
    {
     "name": "stderr",
     "output_type": "stream",
     "text": [
      "/usr/local/lib/python2.7/site-packages/ipykernel/__main__.py:28: SettingWithCopyWarning: \n",
      "A value is trying to be set on a copy of a slice from a DataFrame\n",
      "\n",
      "See the caveats in the documentation: http://pandas.pydata.org/pandas-docs/stable/indexing.html#indexing-view-versus-copy\n",
      "/usr/local/lib/python2.7/site-packages/ipykernel/__main__.py:29: SettingWithCopyWarning: \n",
      "A value is trying to be set on a copy of a slice from a DataFrame\n",
      "\n",
      "See the caveats in the documentation: http://pandas.pydata.org/pandas-docs/stable/indexing.html#indexing-view-versus-copy\n",
      "/usr/local/lib/python2.7/site-packages/ipykernel/__main__.py:30: SettingWithCopyWarning: \n",
      "A value is trying to be set on a copy of a slice from a DataFrame\n",
      "\n",
      "See the caveats in the documentation: http://pandas.pydata.org/pandas-docs/stable/indexing.html#indexing-view-versus-copy\n"
     ]
    }
   ],
   "source": [
    "train = allcleaner(train)"
   ]
  },
  {
   "cell_type": "markdown",
   "metadata": {},
   "source": [
    "Original unique occurrences of the variables:"
   ]
  },
  {
   "cell_type": "code",
   "execution_count": 60,
   "metadata": {
    "collapsed": false
   },
   "outputs": [
    {
     "name": "stdout",
     "output_type": "stream",
     "text": [
      "1894\n",
      "2144\n",
      "2694\n"
     ]
    }
   ],
   "source": [
    "for i in ['funder', 'installer', 'scheme_name']:\n",
    "    print(len(train[i].unique()))"
   ]
  },
  {
   "cell_type": "markdown",
   "metadata": {},
   "source": [
    "After data cleaning and setting small groups to 'Other':"
   ]
  },
  {
   "cell_type": "code",
   "execution_count": 65,
   "metadata": {
    "collapsed": false
   },
   "outputs": [
    {
     "name": "stdout",
     "output_type": "stream",
     "text": [
      "346\n",
      "364\n",
      "595\n"
     ]
    }
   ],
   "source": [
    "for i in ['funder_group', 'installer_group', 'scheme_name_group']:\n",
    "    print(len(train[i].unique()))"
   ]
  },
  {
   "cell_type": "markdown",
   "metadata": {},
   "source": [
    "### Data Exploration"
   ]
  },
  {
   "cell_type": "markdown",
   "metadata": {},
   "source": [
    "## Problem here!!\n",
    "Count missing values (Zeros count as missing for now) \n"
   ]
  },
  {
   "cell_type": "code",
   "execution_count": 106,
   "metadata": {
    "collapsed": false
   },
   "outputs": [],
   "source": [
    "def countNA(dataframe):\n",
    "    NA = {}\n",
    "    lenData = len(dataframe)\n",
    "    for col in dataframe:\n",
    "        zeroCount = lenData - np.count_nonzero(dataframe[col])\n",
    "        nanCount = dataframe[col].isnull().sum()\n",
    "        missingCount = zeroCount + nanCount\n",
    "        NA['NA_{}'.format(col)] = {'count': missingCount, 'proportion': '{:.1%}'.format(float(missingCount)/float(lenData))}\n",
    "    return NA\n",
    "        \n",
    "naCount = countNA(train)        \n",
    "    "
   ]
  },
  {
   "cell_type": "code",
   "execution_count": 107,
   "metadata": {
    "collapsed": false
   },
   "outputs": [
    {
     "data": {
      "text/html": [
       "<div>\n",
       "<table border=\"1\" class=\"dataframe\">\n",
       "  <thead>\n",
       "    <tr style=\"text-align: right;\">\n",
       "      <th></th>\n",
       "      <th>count</th>\n",
       "      <th>proportion</th>\n",
       "    </tr>\n",
       "  </thead>\n",
       "  <tbody>\n",
       "    <tr>\n",
       "      <th>NA_amount_tsh</th>\n",
       "      <td>41639</td>\n",
       "      <td>70.1%</td>\n",
       "    </tr>\n",
       "    <tr>\n",
       "      <th>NA_basin</th>\n",
       "      <td>0</td>\n",
       "      <td>0.0%</td>\n",
       "    </tr>\n",
       "    <tr>\n",
       "      <th>NA_construction_year</th>\n",
       "      <td>0</td>\n",
       "      <td>0.0%</td>\n",
       "    </tr>\n",
       "    <tr>\n",
       "      <th>NA_date_recorded</th>\n",
       "      <td>0</td>\n",
       "      <td>0.0%</td>\n",
       "    </tr>\n",
       "    <tr>\n",
       "      <th>NA_district_code</th>\n",
       "      <td>23</td>\n",
       "      <td>0.0%</td>\n",
       "    </tr>\n",
       "    <tr>\n",
       "      <th>NA_extraction_type</th>\n",
       "      <td>0</td>\n",
       "      <td>0.0%</td>\n",
       "    </tr>\n",
       "    <tr>\n",
       "      <th>NA_extraction_type_class</th>\n",
       "      <td>0</td>\n",
       "      <td>0.0%</td>\n",
       "    </tr>\n",
       "    <tr>\n",
       "      <th>NA_extraction_type_group</th>\n",
       "      <td>0</td>\n",
       "      <td>0.0%</td>\n",
       "    </tr>\n",
       "    <tr>\n",
       "      <th>NA_funder</th>\n",
       "      <td>0</td>\n",
       "      <td>0.0%</td>\n",
       "    </tr>\n",
       "    <tr>\n",
       "      <th>NA_funder_group</th>\n",
       "      <td>0</td>\n",
       "      <td>0.0%</td>\n",
       "    </tr>\n",
       "    <tr>\n",
       "      <th>NA_gps_height</th>\n",
       "      <td>20438</td>\n",
       "      <td>34.4%</td>\n",
       "    </tr>\n",
       "    <tr>\n",
       "      <th>NA_id</th>\n",
       "      <td>1</td>\n",
       "      <td>0.0%</td>\n",
       "    </tr>\n",
       "    <tr>\n",
       "      <th>NA_installer</th>\n",
       "      <td>0</td>\n",
       "      <td>0.0%</td>\n",
       "    </tr>\n",
       "    <tr>\n",
       "      <th>NA_installer_group</th>\n",
       "      <td>0</td>\n",
       "      <td>0.0%</td>\n",
       "    </tr>\n",
       "    <tr>\n",
       "      <th>NA_latitude</th>\n",
       "      <td>0</td>\n",
       "      <td>0.0%</td>\n",
       "    </tr>\n",
       "    <tr>\n",
       "      <th>NA_lga</th>\n",
       "      <td>0</td>\n",
       "      <td>0.0%</td>\n",
       "    </tr>\n",
       "    <tr>\n",
       "      <th>NA_longitude</th>\n",
       "      <td>1812</td>\n",
       "      <td>3.1%</td>\n",
       "    </tr>\n",
       "    <tr>\n",
       "      <th>NA_management</th>\n",
       "      <td>0</td>\n",
       "      <td>0.0%</td>\n",
       "    </tr>\n",
       "    <tr>\n",
       "      <th>NA_management_group</th>\n",
       "      <td>0</td>\n",
       "      <td>0.0%</td>\n",
       "    </tr>\n",
       "    <tr>\n",
       "      <th>NA_month</th>\n",
       "      <td>0</td>\n",
       "      <td>0.0%</td>\n",
       "    </tr>\n",
       "    <tr>\n",
       "      <th>NA_num_private</th>\n",
       "      <td>58643</td>\n",
       "      <td>98.7%</td>\n",
       "    </tr>\n",
       "    <tr>\n",
       "      <th>NA_operation_time</th>\n",
       "      <td>0</td>\n",
       "      <td>0.0%</td>\n",
       "    </tr>\n",
       "    <tr>\n",
       "      <th>NA_payment</th>\n",
       "      <td>0</td>\n",
       "      <td>0.0%</td>\n",
       "    </tr>\n",
       "    <tr>\n",
       "      <th>NA_payment_type</th>\n",
       "      <td>0</td>\n",
       "      <td>0.0%</td>\n",
       "    </tr>\n",
       "    <tr>\n",
       "      <th>NA_permit</th>\n",
       "      <td>20548</td>\n",
       "      <td>34.6%</td>\n",
       "    </tr>\n",
       "    <tr>\n",
       "      <th>NA_population</th>\n",
       "      <td>21381</td>\n",
       "      <td>36.0%</td>\n",
       "    </tr>\n",
       "    <tr>\n",
       "      <th>NA_public_meeting</th>\n",
       "      <td>8389</td>\n",
       "      <td>14.1%</td>\n",
       "    </tr>\n",
       "    <tr>\n",
       "      <th>NA_quality_group</th>\n",
       "      <td>0</td>\n",
       "      <td>0.0%</td>\n",
       "    </tr>\n",
       "    <tr>\n",
       "      <th>NA_quantity</th>\n",
       "      <td>0</td>\n",
       "      <td>0.0%</td>\n",
       "    </tr>\n",
       "    <tr>\n",
       "      <th>NA_quantity_group</th>\n",
       "      <td>0</td>\n",
       "      <td>0.0%</td>\n",
       "    </tr>\n",
       "    <tr>\n",
       "      <th>NA_recorded_by</th>\n",
       "      <td>0</td>\n",
       "      <td>0.0%</td>\n",
       "    </tr>\n",
       "    <tr>\n",
       "      <th>NA_region</th>\n",
       "      <td>0</td>\n",
       "      <td>0.0%</td>\n",
       "    </tr>\n",
       "    <tr>\n",
       "      <th>NA_region_code</th>\n",
       "      <td>0</td>\n",
       "      <td>0.0%</td>\n",
       "    </tr>\n",
       "    <tr>\n",
       "      <th>NA_scheme_management</th>\n",
       "      <td>0</td>\n",
       "      <td>0.0%</td>\n",
       "    </tr>\n",
       "    <tr>\n",
       "      <th>NA_scheme_name</th>\n",
       "      <td>0</td>\n",
       "      <td>0.0%</td>\n",
       "    </tr>\n",
       "    <tr>\n",
       "      <th>NA_scheme_name_group</th>\n",
       "      <td>0</td>\n",
       "      <td>0.0%</td>\n",
       "    </tr>\n",
       "    <tr>\n",
       "      <th>NA_source</th>\n",
       "      <td>0</td>\n",
       "      <td>0.0%</td>\n",
       "    </tr>\n",
       "    <tr>\n",
       "      <th>NA_source_class</th>\n",
       "      <td>0</td>\n",
       "      <td>0.0%</td>\n",
       "    </tr>\n",
       "    <tr>\n",
       "      <th>NA_source_type</th>\n",
       "      <td>0</td>\n",
       "      <td>0.0%</td>\n",
       "    </tr>\n",
       "    <tr>\n",
       "      <th>NA_status_group</th>\n",
       "      <td>0</td>\n",
       "      <td>0.0%</td>\n",
       "    </tr>\n",
       "    <tr>\n",
       "      <th>NA_subvillage</th>\n",
       "      <td>371</td>\n",
       "      <td>0.6%</td>\n",
       "    </tr>\n",
       "    <tr>\n",
       "      <th>NA_ward</th>\n",
       "      <td>0</td>\n",
       "      <td>0.0%</td>\n",
       "    </tr>\n",
       "    <tr>\n",
       "      <th>NA_water_quality</th>\n",
       "      <td>0</td>\n",
       "      <td>0.0%</td>\n",
       "    </tr>\n",
       "    <tr>\n",
       "      <th>NA_waterpoint_type</th>\n",
       "      <td>0</td>\n",
       "      <td>0.0%</td>\n",
       "    </tr>\n",
       "    <tr>\n",
       "      <th>NA_waterpoint_type_group</th>\n",
       "      <td>0</td>\n",
       "      <td>0.0%</td>\n",
       "    </tr>\n",
       "    <tr>\n",
       "      <th>NA_wpt_name</th>\n",
       "      <td>0</td>\n",
       "      <td>0.0%</td>\n",
       "    </tr>\n",
       "  </tbody>\n",
       "</table>\n",
       "</div>"
      ],
      "text/plain": [
       "                          count proportion\n",
       "NA_amount_tsh             41639      70.1%\n",
       "NA_basin                      0       0.0%\n",
       "NA_construction_year          0       0.0%\n",
       "NA_date_recorded              0       0.0%\n",
       "NA_district_code             23       0.0%\n",
       "NA_extraction_type            0       0.0%\n",
       "NA_extraction_type_class      0       0.0%\n",
       "NA_extraction_type_group      0       0.0%\n",
       "NA_funder                     0       0.0%\n",
       "NA_funder_group               0       0.0%\n",
       "NA_gps_height             20438      34.4%\n",
       "NA_id                         1       0.0%\n",
       "NA_installer                  0       0.0%\n",
       "NA_installer_group            0       0.0%\n",
       "NA_latitude                   0       0.0%\n",
       "NA_lga                        0       0.0%\n",
       "NA_longitude               1812       3.1%\n",
       "NA_management                 0       0.0%\n",
       "NA_management_group           0       0.0%\n",
       "NA_month                      0       0.0%\n",
       "NA_num_private            58643      98.7%\n",
       "NA_operation_time             0       0.0%\n",
       "NA_payment                    0       0.0%\n",
       "NA_payment_type               0       0.0%\n",
       "NA_permit                 20548      34.6%\n",
       "NA_population             21381      36.0%\n",
       "NA_public_meeting          8389      14.1%\n",
       "NA_quality_group              0       0.0%\n",
       "NA_quantity                   0       0.0%\n",
       "NA_quantity_group             0       0.0%\n",
       "NA_recorded_by                0       0.0%\n",
       "NA_region                     0       0.0%\n",
       "NA_region_code                0       0.0%\n",
       "NA_scheme_management          0       0.0%\n",
       "NA_scheme_name                0       0.0%\n",
       "NA_scheme_name_group          0       0.0%\n",
       "NA_source                     0       0.0%\n",
       "NA_source_class               0       0.0%\n",
       "NA_source_type                0       0.0%\n",
       "NA_status_group               0       0.0%\n",
       "NA_subvillage               371       0.6%\n",
       "NA_ward                       0       0.0%\n",
       "NA_water_quality              0       0.0%\n",
       "NA_waterpoint_type            0       0.0%\n",
       "NA_waterpoint_type_group      0       0.0%\n",
       "NA_wpt_name                   0       0.0%"
      ]
     },
     "execution_count": 107,
     "metadata": {},
     "output_type": "execute_result"
    }
   ],
   "source": [
    "pd.DataFrame.from_dict(naCount, orient='index')"
   ]
  },
  {
   "cell_type": "code",
   "execution_count": 104,
   "metadata": {
    "collapsed": false
   },
   "outputs": [],
   "source": [
    "# Make cross table for each column against status to check for patterns\n",
    "def crossTab(dataframe, refCol):\n",
    "    colNames = list(dataframe.drop([refCol], 1))\n",
    "    ctDict = {}\n",
    "    for i in colNames:\n",
    "        ctDict['crossTab_{}'.format(i)] = pd.crosstab(dataframe[i], dataframe[refCol])\n",
    "    return ctDict\n",
    "\n",
    "tables = crossTab(train, 'status_group')"
   ]
  },
  {
   "cell_type": "markdown",
   "metadata": {},
   "source": [
    "* crossTab_quantity: most 'dry's are non-functional\n",
    "* crossTab_funder: need cleaning\n",
    "* crossTab_installer: need cleaning\n",
    "* crossTab_subvillage: need cleaning, might be fubar\n",
    "* crossTab_region, region_code, district_code: clean. more region codes than both region and district codes, not sure why\n",
    "* crossTab_scheme_name: need cleaning\n",
    "* crossTab_construction_year: lots of missing data"
   ]
  },
  {
   "cell_type": "markdown",
   "metadata": {},
   "source": [
    "## Modeling"
   ]
  },
  {
   "cell_type": "markdown",
   "metadata": {},
   "source": [
    "Convert to factors"
   ]
  },
  {
   "cell_type": "code",
   "execution_count": 66,
   "metadata": {
    "collapsed": false
   },
   "outputs": [],
   "source": [
    "numericAttr = ['id','latitude','longitude','gps_height','date_recorded','construction_year','month','operation_time', 'population']\n",
    "factorConvert = [x for x in train.columns if x not in numericAttr]\n",
    "\n",
    "for factor in factorConvert:\n",
    "    train[factor] = preprocessing.LabelEncoder().fit_transform(train[factor])"
   ]
  },
  {
   "cell_type": "markdown",
   "metadata": {},
   "source": [
    "Start tree"
   ]
  },
  {
   "cell_type": "code",
   "execution_count": 67,
   "metadata": {
    "collapsed": false
   },
   "outputs": [
    {
     "data": {
      "text/plain": [
       "id                       False\n",
       "amount_tsh               False\n",
       "date_recorded            False\n",
       "funder                   False\n",
       "gps_height               False\n",
       "installer                False\n",
       "longitude                False\n",
       "latitude                 False\n",
       "wpt_name                 False\n",
       "num_private              False\n",
       "basin                    False\n",
       "subvillage               False\n",
       "region                   False\n",
       "region_code              False\n",
       "district_code            False\n",
       "lga                      False\n",
       "ward                     False\n",
       "population               False\n",
       "public_meeting           False\n",
       "recorded_by              False\n",
       "scheme_management        False\n",
       "scheme_name              False\n",
       "permit                   False\n",
       "construction_year        False\n",
       "extraction_type          False\n",
       "extraction_type_group    False\n",
       "extraction_type_class    False\n",
       "management               False\n",
       "management_group         False\n",
       "payment                  False\n",
       "payment_type             False\n",
       "water_quality            False\n",
       "quality_group            False\n",
       "quantity                 False\n",
       "quantity_group           False\n",
       "source                   False\n",
       "source_type              False\n",
       "source_class             False\n",
       "waterpoint_type          False\n",
       "waterpoint_type_group    False\n",
       "status_group             False\n",
       "operation_time           False\n",
       "month                    False\n",
       "funder_group             False\n",
       "installer_group          False\n",
       "scheme_name_group        False\n",
       "dtype: bool"
      ]
     },
     "execution_count": 67,
     "metadata": {},
     "output_type": "execute_result"
    }
   ],
   "source": [
    "train.isnull().any() #check for any NaN values"
   ]
  },
  {
   "cell_type": "code",
   "execution_count": 68,
   "metadata": {
    "collapsed": true
   },
   "outputs": [],
   "source": [
    "excludeAttr = ['date_recorded', 'wpt_name', 'num_private', 'subvillage', 'region', 'installer', 'funder', 'scheme_name',\n",
    "              'recorded_by', 'extraction_type_group', 'extraction_type_class', 'status_group', 'id', 'construction_year']"
   ]
  },
  {
   "cell_type": "code",
   "execution_count": 69,
   "metadata": {
    "collapsed": false
   },
   "outputs": [],
   "source": [
    "Y = train['status_group']\n",
    "X = train.drop(excludeAttr, axis = 1)"
   ]
  },
  {
   "cell_type": "code",
   "execution_count": 70,
   "metadata": {
    "collapsed": false
   },
   "outputs": [
    {
     "name": "stdout",
     "output_type": "stream",
     "text": [
      "Accuracy score for tree is 0.792\n"
     ]
    }
   ],
   "source": [
    "treeEntropy = DecisionTreeClassifier(max_depth = 12, criterion = 'entropy')\n",
    "treeEntropy.fit(X, Y)\n",
    "#Decision_Tree_Image(treeEntropy, X.columns)\n",
    "print \"Accuracy score for tree is %.3f\" %metrics.accuracy_score(treeEntropy.predict(X), Y)"
   ]
  },
  {
   "cell_type": "markdown",
   "metadata": {
    "collapsed": false
   },
   "source": [
    "Split set"
   ]
  },
  {
   "cell_type": "code",
   "execution_count": 71,
   "metadata": {
    "collapsed": false
   },
   "outputs": [],
   "source": [
    "Xtrain, Xtest, Ytrain, Ytest = train_test_split(X, Y, train_size = 0.80)"
   ]
  },
  {
   "cell_type": "code",
   "execution_count": 72,
   "metadata": {
    "collapsed": false
   },
   "outputs": [
    {
     "name": "stdout",
     "output_type": "stream",
     "text": [
      "Accuracy score of tree on train = 0.791\n",
      "Accuracy score of tree on test = 0.750\n"
     ]
    }
   ],
   "source": [
    "treeEntropy.fit(Xtrain, Ytrain)\n",
    "print 'Accuracy score of tree on train = %.3f' %metrics.accuracy_score(treeEntropy.predict(Xtrain), Ytrain)\n",
    "print 'Accuracy score of tree on test = %.3f' %metrics.accuracy_score(treeEntropy.predict(Xtest), Ytest) "
   ]
  },
  {
   "cell_type": "code",
   "execution_count": 15,
   "metadata": {
    "collapsed": false
   },
   "outputs": [
    {
     "data": {
      "image/png": "[encoded data removed]",
      "text/plain": [
       "<matplotlib.figure.Figure at 0x1102a1810>"
      ]
     },
     "metadata": {},
     "output_type": "display_data"
    }
   ],
   "source": [
    "accuraciesTrain = []\n",
    "accuraciesTest = []\n",
    "depths = range(1, 20)\n",
    "\n",
    "for md in depths:\n",
    "    model = DecisionTreeClassifier(max_depth = md)\n",
    "    model.fit(Xtrain, Ytrain)\n",
    "    \n",
    "    accuraciesTrain.append(metrics.accuracy_score(model.predict(Xtrain), Ytrain))\n",
    "    accuraciesTest.append(metrics.accuracy_score(model.predict(Xtest), Ytest))\n",
    "\n",
    "plt.plot(depths, accuraciesTrain, label = \"Train\")\n",
    "plt.plot(depths, accuraciesTest, label = \"Test\")\n",
    "plt.title(\"Performance on train and test data\")\n",
    "plt.xlabel(\"Max depth\")\n",
    "plt.ylabel(\"Accuracy\")\n",
    "plt.legend()\n",
    "plt.show()"
   ]
  },
  {
   "cell_type": "code",
   "execution_count": 16,
   "metadata": {
    "collapsed": false
   },
   "outputs": [
    {
     "data": {
      "image/png": "[encoded data removed]",
      "text/plain": [
       "<matplotlib.figure.Figure at 0x1110fdf90>"
      ]
     },
     "metadata": {},
     "output_type": "display_data"
    }
   ],
   "source": [
    "accuraciesCrossValidation = []\n",
    "depths = range(1, 20)\n",
    "\n",
    "for md in depths:\n",
    "    model = DecisionTreeClassifier(max_depth = md)\n",
    "    \n",
    "    accuraciesCrossValidation.append(np.mean(cross_validation.cross_val_score(model, X, Y)))\n",
    "\n",
    "plt.plot(depths, accuraciesCrossValidation, label = \"Cross Validation\")\n",
    "plt.plot(depths, accuraciesTrain, label = \"Train\")\n",
    "plt.plot(depths, accuraciesTest, label = \"Test\")\n",
    "plt.title(\"Performace on train and test data\")\n",
    "plt.xlabel(\"Max depth\")\n",
    "plt.ylabel(\"Accuracy\")\n",
    "#plt.ylim([0.8, 1.0])\n",
    "#plt.xlim([1,20])\n",
    "plt.legend()\n",
    "plt.show()"
   ]
  },
  {
   "cell_type": "markdown",
   "metadata": {},
   "source": [
    "Quite shit. Try with random forest"
   ]
  },
  {
   "cell_type": "markdown",
   "metadata": {},
   "source": [
    "Tuning the model with 100 trees, 20 min samples each leaf, no restriction on number of processors used (n_jobs)."
   ]
  },
  {
   "cell_type": "code",
   "execution_count": 73,
   "metadata": {
    "collapsed": false
   },
   "outputs": [
    {
     "data": {
      "text/plain": [
       "RandomForestClassifier(bootstrap=True, class_weight=None, criterion='entropy',\n",
       "            max_depth=20, max_features='sqrt', max_leaf_nodes=None,\n",
       "            min_impurity_split=1e-07, min_samples_leaf=10,\n",
       "            min_samples_split=2, min_weight_fraction_leaf=0.0,\n",
       "            n_estimators=100, n_jobs=-1, oob_score=False,\n",
       "            random_state=None, verbose=0, warm_start=False)"
      ]
     },
     "execution_count": 73,
     "metadata": {},
     "output_type": "execute_result"
    }
   ],
   "source": [
    "randomForest = RandomForestClassifier(max_features = 'sqrt', n_estimators = 100, min_samples_leaf = 10,\n",
    "                                     max_depth = 20, n_jobs = -1, criterion = 'entropy')\n",
    "randomForest.fit(Xtrain, Ytrain)"
   ]
  },
  {
   "cell_type": "markdown",
   "metadata": {},
   "source": [
    "Things learned from fucking with the model\n",
    "* no max_depth is better\n",
    "* 100 trees seem optimum. More or less would result in worse performance"
   ]
  },
  {
   "cell_type": "code",
   "execution_count": 74,
   "metadata": {
    "collapsed": false
   },
   "outputs": [
    {
     "name": "stdout",
     "output_type": "stream",
     "text": [
      "Accuracy score of random forest on train = 0.838\n",
      "Accuracy score of random forest on test = 0.799\n"
     ]
    }
   ],
   "source": [
    "print 'Accuracy score of random forest on train = %.3f' %metrics.accuracy_score(randomForest.predict(Xtrain), Ytrain)\n",
    "print 'Accuracy score of random forest on test = %.3f' %metrics.accuracy_score(randomForest.predict(Xtest), Ytest)"
   ]
  },
  {
   "cell_type": "markdown",
   "metadata": {},
   "source": [
    "Create cross table of actual and predicted"
   ]
  },
  {
   "cell_type": "code",
   "execution_count": 25,
   "metadata": {
    "collapsed": false
   },
   "outputs": [
    {
     "data": {
      "text/html": [
       "<div>\n",
       "<table border=\"1\" class=\"dataframe\">\n",
       "  <thead>\n",
       "    <tr style=\"text-align: right;\">\n",
       "      <th>Predicted status</th>\n",
       "      <th>0</th>\n",
       "      <th>1</th>\n",
       "      <th>2</th>\n",
       "    </tr>\n",
       "    <tr>\n",
       "      <th>Actual status</th>\n",
       "      <th></th>\n",
       "      <th></th>\n",
       "      <th></th>\n",
       "    </tr>\n",
       "  </thead>\n",
       "  <tbody>\n",
       "    <tr>\n",
       "      <th>0</th>\n",
       "      <td>5976</td>\n",
       "      <td>42</td>\n",
       "      <td>430</td>\n",
       "    </tr>\n",
       "    <tr>\n",
       "      <th>1</th>\n",
       "      <td>588</td>\n",
       "      <td>167</td>\n",
       "      <td>123</td>\n",
       "    </tr>\n",
       "    <tr>\n",
       "      <th>2</th>\n",
       "      <td>1186</td>\n",
       "      <td>31</td>\n",
       "      <td>3337</td>\n",
       "    </tr>\n",
       "  </tbody>\n",
       "</table>\n",
       "</div>"
      ],
      "text/plain": [
       "Predicted status     0    1     2\n",
       "Actual status                    \n",
       "0                 5976   42   430\n",
       "1                  588  167   123\n",
       "2                 1186   31  3337"
      ]
     },
     "execution_count": 25,
     "metadata": {},
     "output_type": "execute_result"
    }
   ],
   "source": [
    "forestPreds = randomForest.predict(Xtest)\n",
    "pd.crosstab(Ytest, forestPreds, rownames=['Actual status'], colnames=['Predicted status'])"
   ]
  },
  {
   "cell_type": "markdown",
   "metadata": {},
   "source": [
    "Pretty shit to predict non-functional pumps it seems. False positive is not good."
   ]
  },
  {
   "cell_type": "code",
   "execution_count": 20,
   "metadata": {
    "collapsed": false
   },
   "outputs": [
    {
     "data": {
      "text/plain": [
       "[('amount_tsh', 0.02830646093697493),\n",
       " ('funder', 0.031069409104459784),\n",
       " ('gps_height', 0.032309180282296054),\n",
       " ('installer', 0.027167897624541571),\n",
       " ('longitude', 0.068997487599320659),\n",
       " ('latitude', 0.059104654295842558),\n",
       " ('basin', 0.018919086123095272),\n",
       " ('region_code', 0.026945018420741661),\n",
       " ('lga', 0.040232443701938875),\n",
       " ('ward', 0.025652837857831873),\n",
       " ('population', 0.021308761803033684),\n",
       " ('public_meeting', 0.016972018052718137),\n",
       " ('scheme_management', 0.015176593850793833),\n",
       " ('scheme_name', 0.022534227165139531),\n",
       " ('permit', 0.020096599308994625),\n",
       " ('construction_year', 0.042218569895965313),\n",
       " ('extraction_type', 0.037887256664569956),\n",
       " ('management', 0.015890013285915112),\n",
       " ('management_group', 0.005542687695986601),\n",
       " ('payment', 0.020094829095219428),\n",
       " ('payment_type', 0.020657391987610869),\n",
       " ('water_quality', 0.0050002617055904964),\n",
       " ('quality_group', 0.0053632076270068354),\n",
       " ('quantity', 0.11857561876937954),\n",
       " ('quantity_group', 0.11240563278356078),\n",
       " ('source', 0.024564501350932001),\n",
       " ('source_type', 0.016717022842410546),\n",
       " ('source_class', 0.0072640156637541406),\n",
       " ('waterpoint_type', 0.068028048803641911),\n",
       " ('waterpoint_type_group', 0.044998265700733425)]"
      ]
     },
     "execution_count": 20,
     "metadata": {},
     "output_type": "execute_result"
    }
   ],
   "source": [
    "list(zip(Xtrain, randomForest.feature_importances_))"
   ]
  },
  {
   "cell_type": "markdown",
   "metadata": {
    "collapsed": true
   },
   "source": [
    "Initiate bagging"
   ]
  },
  {
   "cell_type": "code",
   "execution_count": 75,
   "metadata": {
    "collapsed": false
   },
   "outputs": [
    {
     "data": {
      "text/plain": [
       "BaggingClassifier(base_estimator=None, bootstrap=True,\n",
       "         bootstrap_features=True, max_features=1.0, max_samples=1.0,\n",
       "         n_estimators=50, n_jobs=-1, oob_score=False, random_state=None,\n",
       "         verbose=0, warm_start=False)"
      ]
     },
     "execution_count": 75,
     "metadata": {},
     "output_type": "execute_result"
    }
   ],
   "source": [
    "bagTree = BaggingClassifier(n_estimators = 50, n_jobs = -1, bootstrap = True, bootstrap_features = True)\n",
    "bagTree.fit(Xtrain, Ytrain)"
   ]
  },
  {
   "cell_type": "code",
   "execution_count": 76,
   "metadata": {
    "collapsed": false
   },
   "outputs": [
    {
     "name": "stdout",
     "output_type": "stream",
     "text": [
      "Accuracy score of bagged tree on train = 1.000\n",
      "Accuracy score of bagged tree on test = 0.807\n"
     ]
    }
   ],
   "source": [
    "print 'Accuracy score of bagged tree on train = %.3f' %metrics.accuracy_score(bagTree.predict(Xtrain), Ytrain)\n",
    "print 'Accuracy score of bagged tree on test = %.3f' %metrics.accuracy_score(bagTree.predict(Xtest), Ytest)"
   ]
  },
  {
   "cell_type": "markdown",
   "metadata": {
    "collapsed": true
   },
   "source": [
    "Grid search"
   ]
  },
  {
   "cell_type": "code",
   "execution_count": 34,
   "metadata": {
    "collapsed": true
   },
   "outputs": [],
   "source": [
    "bagParam = {\n",
    "    'n_estimators': [50, 100, 200],\n",
    "    'bootstrap': [True, False],\n",
    "    'bootstrap_features': [True, False]\n",
    "}\n",
    "bagGrid = GridSearchCV(estimator = bagTree, param_grid=bagParam, cv = 5)"
   ]
  },
  {
   "cell_type": "code",
   "execution_count": 31,
   "metadata": {
    "collapsed": true
   },
   "outputs": [],
   "source": [
    "forestParam = {\n",
    "    'max_features': ['auto', 'sqrt', 'log2'],\n",
    "    'n_estimators': [50, 100, 200],\n",
    "    'min_samples_leaf': [10, 15, 25],\n",
    "    'max_depth': [10, 15, 20],\n",
    "}\n",
    "forestGrid = GridSearchCV(estimator = randomForest, param_grid = forestParam, cv = 5)"
   ]
  },
  {
   "cell_type": "code",
   "execution_count": 32,
   "metadata": {
    "collapsed": false
   },
   "outputs": [
    {
     "data": {
      "text/plain": [
       "GridSearchCV(cv=5, error_score='raise',\n",
       "       estimator=RandomForestClassifier(bootstrap=True, class_weight=None, criterion='entropy',\n",
       "            max_depth=20, max_features='sqrt', max_leaf_nodes=None,\n",
       "            min_impurity_split=1e-07, min_samples_leaf=10,\n",
       "            min_samples_split=2, min_weight_fraction_leaf=0.0,\n",
       "            n_estimators=100, n_jobs=-1, oob_score=False,\n",
       "            random_state=None, verbose=0, warm_start=False),\n",
       "       fit_params={}, iid=True, n_jobs=1,\n",
       "       param_grid={'max_features': ['auto', 'sqrt', 'log2'], 'n_estimators': [50, 100, 200], 'max_depth': [10, 15, 20], 'min_samples_leaf': [10, 15, 25]},\n",
       "       pre_dispatch='2*n_jobs', refit=True, return_train_score=True,\n",
       "       scoring=None, verbose=0)"
      ]
     },
     "execution_count": 32,
     "metadata": {},
     "output_type": "execute_result"
    }
   ],
   "source": [
    "forestGrid.fit(Xtrain, Ytrain)"
   ]
  },
  {
   "cell_type": "code",
   "execution_count": 35,
   "metadata": {
    "collapsed": false
   },
   "outputs": [
    {
     "data": {
      "text/plain": [
       "GridSearchCV(cv=5, error_score='raise',\n",
       "       estimator=BaggingClassifier(base_estimator=None, bootstrap=True,\n",
       "         bootstrap_features=False, max_features=1.0, max_samples=1.0,\n",
       "         n_estimators=50, n_jobs=-1, oob_score=False, random_state=None,\n",
       "         verbose=0, warm_start=False),\n",
       "       fit_params={}, iid=True, n_jobs=1,\n",
       "       param_grid={'n_estimators': [50, 100, 200], 'bootstrap': [True, False], 'bootstrap_features': [True, False]},\n",
       "       pre_dispatch='2*n_jobs', refit=True, return_train_score=True,\n",
       "       scoring=None, verbose=0)"
      ]
     },
     "execution_count": 35,
     "metadata": {},
     "output_type": "execute_result"
    }
   ],
   "source": [
    "bagGrid.fit(Xtrain, Ytrain)"
   ]
  },
  {
   "cell_type": "code",
   "execution_count": 33,
   "metadata": {
    "collapsed": false
   },
   "outputs": [
    {
     "name": "stdout",
     "output_type": "stream",
     "text": [
      "{'max_features': 'sqrt', 'n_estimators': 200, 'max_depth': 20, 'min_samples_leaf': 10}\n"
     ]
    }
   ],
   "source": [
    "print forestGrid.best_params_"
   ]
  },
  {
   "cell_type": "code",
   "execution_count": 28,
   "metadata": {
    "collapsed": false
   },
   "outputs": [
    {
     "name": "stdout",
     "output_type": "stream",
     "text": [
      "[ 0.8103013   0.81097458  0.80424171  0.78269652  0.81649832  0.79326599\n",
      "  0.8020202   0.796262    0.7939047   0.80986864]\n"
     ]
    }
   ],
   "source": [
    "print cross_val_score(bagTree, X, Y, cv = 10)"
   ]
  },
  {
   "cell_type": "code",
   "execution_count": 36,
   "metadata": {
    "collapsed": false
   },
   "outputs": [
    {
     "name": "stdout",
     "output_type": "stream",
     "text": [
      "{'n_estimators': 200, 'bootstrap': True, 'bootstrap_features': True}\n"
     ]
    }
   ],
   "source": [
    "print bagGrid.best_params_"
   ]
  },
  {
   "cell_type": "markdown",
   "metadata": {
    "collapsed": true
   },
   "source": [
    "## Apply to test set"
   ]
  },
  {
   "cell_type": "code",
   "execution_count": 77,
   "metadata": {
    "collapsed": true
   },
   "outputs": [],
   "source": [
    "test = pd.read_csv('test_values.csv')"
   ]
  },
  {
   "cell_type": "code",
   "execution_count": 78,
   "metadata": {
    "collapsed": false,
    "scrolled": true
   },
   "outputs": [
    {
     "name": "stderr",
     "output_type": "stream",
     "text": [
      "/usr/local/lib/python2.7/site-packages/ipykernel/__main__.py:28: SettingWithCopyWarning: \n",
      "A value is trying to be set on a copy of a slice from a DataFrame\n",
      "\n",
      "See the caveats in the documentation: http://pandas.pydata.org/pandas-docs/stable/indexing.html#indexing-view-versus-copy\n",
      "/usr/local/lib/python2.7/site-packages/ipykernel/__main__.py:29: SettingWithCopyWarning: \n",
      "A value is trying to be set on a copy of a slice from a DataFrame\n",
      "\n",
      "See the caveats in the documentation: http://pandas.pydata.org/pandas-docs/stable/indexing.html#indexing-view-versus-copy\n",
      "/usr/local/lib/python2.7/site-packages/ipykernel/__main__.py:30: SettingWithCopyWarning: \n",
      "A value is trying to be set on a copy of a slice from a DataFrame\n",
      "\n",
      "See the caveats in the documentation: http://pandas.pydata.org/pandas-docs/stable/indexing.html#indexing-view-versus-copy\n"
     ]
    }
   ],
   "source": [
    "test = allcleaner(test)"
   ]
  },
  {
   "cell_type": "code",
   "execution_count": 79,
   "metadata": {
    "collapsed": true
   },
   "outputs": [],
   "source": [
    "def bagPredictTest(test, method):\n",
    "    test = allcleaner(test)\n",
    "    removeAttr = [attr for attr in excludeAttr if attr!= 'status_group']\n",
    "    prepTest = test.drop(removeAttr, axis = 1)\n",
    "    testfactorConvert = [x for x in prepTest.columns if x not in numericAttr]\n",
    "    for factor in testfactorConvert:\n",
    "        prepTest[factor] = preprocessing.LabelEncoder().fit_transform(prepTest[factor])\n",
    "    prediction = method.predict(prepTest)\n",
    "    test['status_group'] = prediction\n",
    "    test['status_group'] = test['status_group'].replace([0, 1, 2], ['functional', 'functional needs repair', 'non functional'])\n",
    "    return test[['id', 'status_group']]"
   ]
  },
  {
   "cell_type": "code",
   "execution_count": 81,
   "metadata": {
    "collapsed": false,
    "scrolled": true
   },
   "outputs": [
    {
     "name": "stderr",
     "output_type": "stream",
     "text": [
      "/usr/local/lib/python2.7/site-packages/ipykernel/__main__.py:28: SettingWithCopyWarning: \n",
      "A value is trying to be set on a copy of a slice from a DataFrame\n",
      "\n",
      "See the caveats in the documentation: http://pandas.pydata.org/pandas-docs/stable/indexing.html#indexing-view-versus-copy\n",
      "/usr/local/lib/python2.7/site-packages/ipykernel/__main__.py:29: SettingWithCopyWarning: \n",
      "A value is trying to be set on a copy of a slice from a DataFrame\n",
      "\n",
      "See the caveats in the documentation: http://pandas.pydata.org/pandas-docs/stable/indexing.html#indexing-view-versus-copy\n",
      "/usr/local/lib/python2.7/site-packages/ipykernel/__main__.py:30: SettingWithCopyWarning: \n",
      "A value is trying to be set on a copy of a slice from a DataFrame\n",
      "\n",
      "See the caveats in the documentation: http://pandas.pydata.org/pandas-docs/stable/indexing.html#indexing-view-versus-copy\n"
     ]
    }
   ],
   "source": [
    "predict = bagPredictTest(test, bagTree)"
   ]
  },
  {
   "cell_type": "markdown",
   "metadata": {},
   "source": [
    "* Export results to csv"
   ]
  },
  {
   "cell_type": "code",
   "execution_count": null,
   "metadata": {
    "collapsed": true
   },
   "outputs": [],
   "source": [
    "predict.to_csv('prediction.csv',index=False)"
   ]
  }
 ],
 "metadata": {
  "kernelspec": {
   "display_name": "Python 2",
   "language": "python",
   "name": "python2"
  },
  "language_info": {
   "codemirror_mode": {
    "name": "ipython",
    "version": 2
   },
   "file_extension": ".py",
   "mimetype": "text/x-python",
   "name": "python",
   "nbconvert_exporter": "python",
   "pygments_lexer": "ipython2",
   "version": "2.7.13"
  }
 },
 "nbformat": 4,
 "nbformat_minor": 2
}
